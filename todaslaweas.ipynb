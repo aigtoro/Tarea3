{
 "cells": [
  {
   "cell_type": "code",
   "execution_count": 12,
   "metadata": {},
   "outputs": [],
   "source": [
    "# My Utility : auxiliars functions\n",
    "\n",
    "import pandas as pd\n",
    "import numpy  as np\n",
    "  \n",
    "\n",
    "# Initialize weights\n",
    "def iniWs():    \n",
    "    ...\n",
    "    return()\n",
    "\n",
    "# Initialize weights for one-layer    \n",
    "def iniW(next,prev):\n",
    "    r = np.sqrt(6/(next+ prev))\n",
    "    w = np.random.rand(next,prev)\n",
    "    w = w*2*r-r    \n",
    "    return(w)\n",
    "\n",
    "# Feed-forward of SNN\n",
    "def forward():\n",
    "    ...    \n",
    "    return() \n",
    "\n",
    "#Activation function\n",
    "def act_function(nodo):\n",
    "    return(np.maximum(0, nodo))\n",
    "# Derivate of the activation funciton\n",
    "def deriva_act(nodo):\n",
    "    return (nodo > 0).astype(float)\n",
    "\n",
    "#Feed-Backward of SNN\n",
    "def gradW():    \n",
    "    ...    \n",
    "    return()    \n",
    "\n",
    "# Update Ws\n",
    "def updW():\n",
    "    ...    \n",
    "    return(...)\n",
    "\n",
    "# Measure\n",
    "def metricas(x,y):\n",
    "    ...    \n",
    "    return()\n",
    "    \n",
    "#Confusion matrix\n",
    "def confusion_matrix(z,y):\n",
    "    ...    \n",
    "    return(cm)\n",
    "#-----------------------------------------------------------------------"
   ]
  },
  {
   "cell_type": "code",
   "execution_count": 4,
   "metadata": {},
   "outputs": [],
   "source": [
    "import pandas as pd\n",
    "import numpy as np\n",
    "def act_function(nodo):\n",
    "    return(np.maximum(0, nodo))  \n",
    "\n",
    "def deriva_act(nodo):\n",
    "    return (nodo > 0).astype(float)"
   ]
  },
  {
   "cell_type": "code",
   "execution_count": 10,
   "metadata": {},
   "outputs": [],
   "source": [
    "data = pd.read_csv('Data_1.csv', header = None)\n",
    "xe = data.iloc[:,:-1]\n",
    "xe = np.array(xe)\n",
    "ye = data.iloc[:, -1]\n",
    "ye = pd.get_dummies(ye)\n",
    "ye = np.array(ye)\n",
    "ye = ye.T\n",
    "\n"
   ]
  },
  {
   "cell_type": "code",
   "execution_count": 11,
   "metadata": {},
   "outputs": [
    {
     "name": "stdout",
     "output_type": "stream",
     "text": [
      "[[ 5.3197e-02  8.8662e-02  9.9718e-02 ...  7.3850e-02  9.4920e-02\n",
      "   9.6172e-02]\n",
      " [ 4.6104e-02 -3.7134e-02 -8.9496e-02 ... -8.9705e-03  1.8150e-02\n",
      "   2.6703e-02]\n",
      " [ 6.4254e-02  6.3002e-02 -4.3809e-03 ...  1.3560e-02  1.7732e-02\n",
      "   3.1084e-02]\n",
      " ...\n",
      " [-2.5990e-02 -2.7208e-02 -4.7918e-02 ... -1.7340e+00 -4.9989e-01\n",
      "   2.8284e+00]\n",
      " [-8.7715e-02 -2.0304e-03  9.2994e-02 ... -7.5695e-01  1.2479e+00\n",
      "  -3.6792e-01]\n",
      " [-2.7614e-01  6.2538e-02  4.1827e-02 ... -9.3400e-03 -4.0609e-04\n",
      "   5.5228e-02]]\n"
     ]
    }
   ],
   "source": [
    "print (xe)"
   ]
  },
  {
   "cell_type": "code",
   "execution_count": 13,
   "metadata": {},
   "outputs": [
    {
     "name": "stdout",
     "output_type": "stream",
     "text": [
      "[[1 1 1 1 0 0 0 0 0 0 0 0 0 0 0 0]\n",
      " [0 0 0 0 1 1 1 1 0 0 0 0 0 0 0 0]\n",
      " [0 0 0 0 0 0 0 0 1 1 1 1 0 0 0 0]\n",
      " [0 0 0 0 0 0 0 0 0 0 0 0 1 1 1 1]]\n"
     ]
    }
   ],
   "source": [
    "ye = data.iloc[:, -1]\n",
    "ye = pd.get_dummies(ye)\n",
    "ye = np.array(ye)\n",
    "ye = ye.T\n",
    "print (ye)"
   ]
  },
  {
   "cell_type": "code",
   "execution_count": null,
   "metadata": {},
   "outputs": [],
   "source": [
    "import pandas     as pd\n",
    "import numpy      as np\n",
    "import math\n",
    "from numpy.linalg import norm\n",
    "\n",
    "def entropy_spectral(X):\n",
    "  H = 0\n",
    "  A = saca_a(X)\n",
    "\n",
    "  for i in range(len(X)):\n",
    "    p = p(A,i)\n",
    "    H+= p*np.log2(p)\n",
    "\n",
    "  H = (-1/np.log2(len(X))) * H\n",
    "  return H\n",
    "\n",
    "def saca_a(X):\n",
    "  A = np.zeros(X.shape)\n",
    "\n",
    "  for i in range(X.shape):\n",
    "    Ak = 0\n",
    "    Ak = np.sum(X*np.exp(-2j*math.pi*(i*np.arange(X.shape/X.shape))))\n",
    "\n",
    "    Ak = norm(Ak)\n",
    "    A[i] = Ak\n",
    "  return A\n",
    "\n",
    "  "
   ]
  }
 ],
 "metadata": {
  "kernelspec": {
   "display_name": "Python 3.7.10",
   "language": "python",
   "name": "python3"
  },
  "language_info": {
   "codemirror_mode": {
    "name": "ipython",
    "version": 3
   },
   "file_extension": ".py",
   "mimetype": "text/x-python",
   "name": "python",
   "nbconvert_exporter": "python",
   "pygments_lexer": "ipython3",
   "version": "3.7.10"
  },
  "orig_nbformat": 4,
  "vscode": {
   "interpreter": {
    "hash": "305ffeb87dc048d3a4d21723a3c3ca15b51be09a2982f51d2e01dd13f5f0d885"
   }
  }
 },
 "nbformat": 4,
 "nbformat_minor": 2
}
